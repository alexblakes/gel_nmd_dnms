{
 "cells": [
  {
   "cell_type": "markdown",
   "id": "d0bba2cb-831c-4443-8255-8d9c6a4a2c60",
   "metadata": {},
   "source": [
    "# DNM enrichment"
   ]
  },
  {
   "cell_type": "code",
   "execution_count": 1,
   "id": "16353cb0-1cb4-4943-83e8-e03bbfc2c148",
   "metadata": {
    "tags": []
   },
   "outputs": [],
   "source": [
    "%load_ext autoreload\n",
    "%autoreload 2"
   ]
  },
  {
   "cell_type": "code",
   "execution_count": 2,
   "id": "fbf2da2b-d581-41d7-9b6f-3883d86ac02b",
   "metadata": {
    "tags": []
   },
   "outputs": [],
   "source": [
    "# Allow relative imports\n",
    "import os\n",
    "import sys\n",
    "\n",
    "module_path = os.path.abspath(os.path.join(\"..\"))\n",
    "if module_path not in sys.path:\n",
    "    sys.path.append(module_path)"
   ]
  },
  {
   "cell_type": "code",
   "execution_count": 3,
   "id": "2864bcd6-b231-48d6-be91-06570699f8f1",
   "metadata": {
    "tags": []
   },
   "outputs": [
    {
     "name": "stdout",
     "output_type": "stream",
     "text": [
      "/nas/weka.gel.zone/re_gecip/enhanced_interpretation/AlexBlakes/nmd_dnms\n"
     ]
    }
   ],
   "source": [
    "# Change working directory\n",
    "%cd /re_gecip/enhanced_interpretation/AlexBlakes/nmd_dnms"
   ]
  },
  {
   "cell_type": "code",
   "execution_count": 4,
   "id": "a9999f45-150c-42d0-9c7d-72d87e588491",
   "metadata": {},
   "outputs": [],
   "source": [
    "# Imports\n",
    "import matplotlib.pyplot as plt\n",
    "import numpy as np\n",
    "import pandas as pd\n",
    "import seaborn as sns\n",
    "\n",
    "from src import constants as C\n",
    "from src import visualisation as vis"
   ]
  },
  {
   "cell_type": "code",
   "execution_count": 5,
   "id": "4216c3fc-171a-45d7-8d40-8620fbc8da30",
   "metadata": {
    "tags": []
   },
   "outputs": [],
   "source": [
    "# Module constants\n",
    "_LOG2_COLUMNS = [\"relative_enrichment\", \"ci_l\", \"ci_r\"]"
   ]
  },
  {
   "cell_type": "code",
   "execution_count": 6,
   "id": "1dcbdf32-4c9d-4257-b7b1-d7be031778a4",
   "metadata": {
    "tags": []
   },
   "outputs": [],
   "source": [
    "# Colours and palettes\n",
    "plt.style.use(C.STYLE_DEFAULT)\n",
    "plt.style.use(C.COLOR_ENRICHMENT)\n",
    "PALETTE = sns.color_palette()"
   ]
  },
  {
   "cell_type": "code",
   "execution_count": 7,
   "id": "67bb31bb-649d-4c2d-baec-f6bfce192980",
   "metadata": {
    "tags": []
   },
   "outputs": [],
   "source": [
    "def read_enrichment_data(path):\n",
    "    df = pd.read_csv(\n",
    "        path,\n",
    "        sep=\"\\t\",\n",
    "        index_col=\"csq\",\n",
    "    )\n",
    "    return df\n",
    "\n",
    "\n",
    "# def log2(df):\n",
    "#     df[_LOG2_COLUMNS] = df[_LOG2_COLUMNS].applymap(np.log2)\n",
    "#     return df\n",
    "\n",
    "\n",
    "def adjust_ci(df):\n",
    "    df = df.assign(ci_l=lambda x: abs(x[\"relative_enrichment\"] - x[\"ci_l\"]))\n",
    "    df = df.assign(ci_r=lambda x: abs(x[\"relative_enrichment\"] - x[\"ci_r\"]))\n",
    "    return df\n",
    "\n",
    "\n",
    "def parse_data(path):\n",
    "    return read_enrichment_data(path).pipe(adjust_ci)\n",
    "\n",
    "\n",
    "# Load data\n",
    "all_genes = parse_data(\"data/statistics/dnms_enrichment_all_genes.tsv\")\n",
    "morbid = parse_data(\"data/statistics/dnms_enrichment_morbid_genes.tsv\")\n",
    "non_morbid = parse_data(\"data/statistics/dnms_enrichment_non_morbid_genes.tsv\")\n",
    "\n",
    "# # Subset the morbid genes by mode of inheritance\n",
    "morbid_ad = morbid[morbid[\"inheritance_simple\"] == \"AD\"]\n",
    "morbid_ar = morbid[morbid[\"inheritance_simple\"] == \"AR\"]"
   ]
  },
  {
   "cell_type": "code",
   "execution_count": 8,
   "id": "411c56ef-3999-4113-9651-6915435a9e7b",
   "metadata": {
    "tags": []
   },
   "outputs": [],
   "source": [
    "def horizontal_bars(\n",
    "    values,\n",
    "    ax=None,\n",
    "    **kwargs,\n",
    "):\n",
    "\n",
    "    kwargs.setdefault(\"tick_label\", values.index)\n",
    "    kwargs.setdefault(\"color\", PALETTE)\n",
    "    kwargs.setdefault(\"ecolor\", [vis.adjust_lightness(c, 0.8) for c in PALETTE])\n",
    "\n",
    "    if not ax:\n",
    "        ax = plt.gca()\n",
    "\n",
    "    n = len(values)  # Number of bars\n",
    "    height = 1 - (1/n)\n",
    "    y = np.arange(n)\n",
    "\n",
    "    ax.barh(y=y, width=values, height=height, **kwargs)\n",
    "\n",
    "    ax.axvline(x=1, linestyle=\"--\", color=\"grey\", alpha=0.5)\n",
    "\n",
    "    return None"
   ]
  },
  {
   "cell_type": "code",
   "execution_count": 11,
   "id": "42603b54-b6f2-4144-9e20-b61b709caeb8",
   "metadata": {
    "tags": []
   },
   "outputs": [
    {
     "data": {
      "text/plain": [
       "Text(0.5, 1.0, 'All genes')"
      ]
     },
     "execution_count": 11,
     "metadata": {},
     "output_type": "execute_result"
    },
    {
     "data": {
      "text/plain": [
       "Text(0.5, 1.0, 'Morbid genes\\n(dominant)')"
      ]
     },
     "execution_count": 11,
     "metadata": {},
     "output_type": "execute_result"
    },
    {
     "data": {
      "text/plain": [
       "Text(0.5, 1.0, 'Morbid genes\\n(recessive)')"
      ]
     },
     "execution_count": 11,
     "metadata": {},
     "output_type": "execute_result"
    },
    {
     "data": {
      "text/plain": [
       "Text(0.5, 1.0, 'Non-morbid genes')"
      ]
     },
     "execution_count": 11,
     "metadata": {},
     "output_type": "execute_result"
    },
    {
     "data": {
      "text/plain": [
       "(0.0, 16.0)"
      ]
     },
     "execution_count": 11,
     "metadata": {},
     "output_type": "execute_result"
    },
    {
     "data": {
      "text/plain": [
       "(0.0, 6.0)"
      ]
     },
     "execution_count": 11,
     "metadata": {},
     "output_type": "execute_result"
    },
    {
     "data": {
      "text/plain": [
       "Text(0.5, 0, 'Fold enrichment')"
      ]
     },
     "execution_count": 11,
     "metadata": {},
     "output_type": "execute_result"
    },
    {
     "data": {
      "text/plain": [
       "Text(0.5, 0, 'Fold enrichment')"
      ]
     },
     "execution_count": 11,
     "metadata": {},
     "output_type": "execute_result"
    },
    {
     "data": {
      "text/plain": [
       "Text(0.5, 0, 'Fold enrichment')"
      ]
     },
     "execution_count": 11,
     "metadata": {},
     "output_type": "execute_result"
    },
    {
     "data": {
      "text/plain": [
       "Text(0.5, 0, 'Fold enrichment')"
      ]
     },
     "execution_count": 11,
     "metadata": {},
     "output_type": "execute_result"
    },
    {
     "data": {
      "image/png": "[encoded data removed]",
      "text/plain": [
       "<Figure size 708.661x157.48 with 4 Axes>"
      ]
     },
     "metadata": {},
     "output_type": "display_data"
    }
   ],
   "source": [
    "fig, axs = plt.subplots(\n",
    "    1, 4, figsize=(18 * C.CM, 4 * C.CM), layout=\"constrained\", sharey=True,\n",
    ")\n",
    "\n",
    "horizontal_bars(\n",
    "    all_genes[\"relative_enrichment\"],\n",
    "    axs[0],\n",
    "    xerr=[all_genes[\"ci_l\"], all_genes[\"ci_r\"]],\n",
    ")\n",
    "\n",
    "horizontal_bars(\n",
    "    morbid_ad[\"relative_enrichment\"],\n",
    "    axs[1],\n",
    "    xerr=[morbid_ad[\"ci_l\"], morbid_ad[\"ci_r\"]],\n",
    ")\n",
    "\n",
    "horizontal_bars(\n",
    "    morbid_ar[\"relative_enrichment\"],\n",
    "    axs[2],\n",
    "    xerr=[morbid_ar[\"ci_l\"], morbid_ar[\"ci_r\"]],\n",
    ")\n",
    "\n",
    "horizontal_bars(\n",
    "    non_morbid[\"relative_enrichment\"],\n",
    "    axs[3],\n",
    "    xerr=[non_morbid[\"ci_l\"], non_morbid[\"ci_r\"]],\n",
    ")\n",
    "\n",
    "axs[0].set_title(\"All genes\")\n",
    "axs[1].set_title(\"Morbid genes\\n(dominant)\")\n",
    "axs[2].set_title(\"Morbid genes\\n(recessive)\")\n",
    "axs[3].set_title(\"Non-morbid genes\")\n",
    "\n",
    "axs[1].set_xlim(0,16)\n",
    "axs[2].set_xlim(0,6)\n",
    "\n",
    "for ax in axs:\n",
    "    ax.set_xlabel(\"Fold enrichment\")\n",
    "    \n",
    "plt.savefig(\"data/plots/dnm_enrichment_constrained_regions.svg\")\n",
    "plt.savefig(\"data/plots/dnm_enrichment_constrained_regions.png\", dpi=1000)"
   ]
  }
 ],
 "metadata": {
  "kernelspec": {
   "display_name": "Python [conda env:.conda-ukb]",
   "language": "python",
   "name": "conda-env-.conda-ukb-py"
  },
  "language_info": {
   "codemirror_mode": {
    "name": "ipython",
    "version": 3
   },
   "file_extension": ".py",
   "mimetype": "text/x-python",
   "name": "python",
   "nbconvert_exporter": "python",
   "pygments_lexer": "ipython3",
   "version": "3.8.17"
  }
 },
 "nbformat": 4,
 "nbformat_minor": 5
}
