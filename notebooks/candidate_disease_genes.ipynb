{
 "cells": [
  {
   "cell_type": "markdown",
   "id": "e6b76f22-cfa9-4f3a-b109-09049917a20d",
   "metadata": {},
   "source": [
    "# Candidate disease genes"
   ]
  },
  {
   "cell_type": "code",
   "execution_count": 1,
   "id": "728cba98-cd48-4741-a382-f948edacf51c",
   "metadata": {
    "tags": []
   },
   "outputs": [],
   "source": [
    "# Imports\n",
    "import pandas as pd"
   ]
  },
  {
   "cell_type": "code",
   "execution_count": 2,
   "id": "8b8a4906-77b6-484e-9ba9-ce2751d0ac77",
   "metadata": {
    "tags": []
   },
   "outputs": [],
   "source": [
    "# Module constants\n",
    "_COLUMNS = (\n",
    "    \"enst chr pos ref alt symbol omim_inheritance_simple region constraint \"\n",
    "    \"pli loeuf n_trunc_region n_trunc_transcript cohort id csq case_solved\"\n",
    ").split()"
   ]
  },
  {
   "cell_type": "code",
   "execution_count": 3,
   "id": "341e8b31-1262-431a-b6a5-3f57879ef0aa",
   "metadata": {
    "tags": []
   },
   "outputs": [
    {
     "name": "stdout",
     "output_type": "stream",
     "text": [
      "/nas/weka.gel.zone/re_gecip/enhanced_interpretation/AlexBlakes/nmd_dnms\n"
     ]
    }
   ],
   "source": [
    "# Change directories to allow imports\n",
    "%cd /re_gecip/enhanced_interpretation/AlexBlakes/nmd_dnms/"
   ]
  },
  {
   "cell_type": "code",
   "execution_count": 4,
   "id": "1e4d2dd0-97c7-4e5d-b254-265ce0da7e35",
   "metadata": {
    "tags": []
   },
   "outputs": [
    {
     "name": "stdout",
     "output_type": "stream",
     "text": [
      "Participant IDs: 32557\n"
     ]
    }
   ],
   "source": [
    "# Read de novo data\n",
    "df = pd.read_csv(\"data/interim/dnms_annotated_clinical.tsv\", sep=\"\\t\", usecols=_COLUMNS)\n",
    "print(f\"Participant IDs: {df['id'].nunique()}\")"
   ]
  },
  {
   "cell_type": "code",
   "execution_count": 5,
   "id": "13890cf9-b0f7-4f49-aee9-a48f64cb7b22",
   "metadata": {
    "tags": []
   },
   "outputs": [
    {
     "name": "stdout",
     "output_type": "stream",
     "text": [
      "DNMs in DDD cohort: 14220\n",
      "DDD DNMs in GEL: 1362\n",
      "DNMs in DDD cohort after cleaning: 12858\n",
      "Total DNMs: 57277\n",
      "Participant IDs: 31951\n"
     ]
    }
   ],
   "source": [
    "# Drop variants from DDD which are duplicated in GEL\n",
    "gel = df[df[\"cohort\"] == \"gel\"]\n",
    "ddd = df[df[\"cohort\"] == \"ddd\"]\n",
    "gdx = df[df[\"cohort\"] == \"gdx\"]\n",
    "rumc = df[df[\"cohort\"] == \"rumc\"]\n",
    "print(f\"DNMs in DDD cohort: {len(ddd)}\")\n",
    "\n",
    "# Preserve the index for later filtering\n",
    "ddd_dups = (\n",
    "    ddd.reset_index()\n",
    "    .merge(gel[[\"chr\", \"pos\", \"ref\", \"alt\"]], how=\"inner\")\n",
    "    .set_index(\"index\")\n",
    ")\n",
    "print(f\"DDD DNMs in GEL: {ddd_dups.index.nunique()}\")\n",
    "\n",
    "ddd = ddd.drop(ddd_dups.index)\n",
    "print(f\"DNMs in DDD cohort after cleaning: {len(ddd)}\")\n",
    "\n",
    "df = pd.concat([gel, ddd, gdx, rumc])\n",
    "print(f\"Total DNMs: {len(df)}\")\n",
    "print(f\"Participant IDs: {df['id'].nunique()}\")"
   ]
  },
  {
   "cell_type": "code",
   "execution_count": 6,
   "id": "b1e002e4-6fe1-46b6-8733-0b93a1394892",
   "metadata": {
    "tags": []
   },
   "outputs": [],
   "source": [
    "# Count dnPTVs per region and transcript\n",
    "count_trunc = lambda x: x.isin([\"frameshift_variant\", \"stop_gained\"]).sum()\n",
    "\n",
    "df[\"n_trunc_region\"] = df.groupby([\"enst\", \"region\"])[\"csq\"].transform(count_trunc)\n",
    "df[\"n_trunc_transcript\"] = df.groupby(\"enst\")[\"csq\"].transform(count_trunc)"
   ]
  },
  {
   "cell_type": "code",
   "execution_count": 7,
   "id": "a2f7dc62-aca4-4d70-9e5d-6726a5512cbc",
   "metadata": {
    "tags": []
   },
   "outputs": [
    {
     "name": "stdout",
     "output_type": "stream",
     "text": [
      "Note that DNVs are duplicated if overlapping >1 transcript.\n",
      "dnPTVs: 7247\n",
      "dnPTVs in constrained regions: 2277\n",
      "dnPTVs in constrained regions of non-morbid genes: 516\n",
      "Non-morbid transcripts with exactly 1 dnPTVs in a constrained region: 266\n",
      "Non-morbid transcripts with exactly 2 dnPTVs in a constrained region: 53\n",
      "Non-morbid transcripts with exactly 3 dnPTVs in a constrained region: 16\n"
     ]
    }
   ],
   "source": [
    "# Filter for candidate disease genes\n",
    "m0 = df[\"csq\"].isin([\"frameshift_variant\", \"stop_gained\"])\n",
    "m1 = df[\"constraint\"] == \"constrained\"\n",
    "m2 = ~df[\"omim_inheritance_simple\"].isin([\"AD\", \"AD_AR\", \"XL\"])\n",
    "# Ignore pLI / LOEUF scores for now\n",
    "# m3 = (df[\"pli\"] < 0.9) & (df[\"loeuf\"] > 0.6)\n",
    "\n",
    "print(f\"Note that DNVs are duplicated if overlapping >1 transcript.\")\n",
    "print(f\"dnPTVs: {len(df[m0])}\")\n",
    "print(f\"dnPTVs in constrained regions: {len(df[m0 & m1])}\")\n",
    "print(f\"dnPTVs in constrained regions of non-morbid genes: {len(df[m0 & m1 & m2])}\")\n",
    "# Ignore pLI / LOEUF for now\n",
    "# print(f\"dnPTVs in constrained regions of non-morbid genes with weak pLI scores: {len(df[m0 & m1 & m2 & m3])}\")\n",
    "\n",
    "for n in range(1,4):\n",
    "    m4 = df[\"n_trunc_region\"] == n\n",
    "    enst = df[m0 & m1 & m2 & m4][\"enst\"].drop_duplicates()\n",
    "    print(f\"Non-morbid transcripts with exactly {n} dnPTVs in a constrained region: {len(enst)}\")"
   ]
  },
  {
   "cell_type": "code",
   "execution_count": 8,
   "id": "30c4f87b-c01f-4a41-bd6a-0c10d6c69280",
   "metadata": {
    "tags": []
   },
   "outputs": [
    {
     "name": "stdout",
     "output_type": "stream",
     "text": [
      "Transcripts with at least 3 dnPTVs in a constrained region: 130\n"
     ]
    }
   ],
   "source": [
    "# Genes with >=3 truncating DNMs\n",
    "m1 = df[\"n_trunc_region\"] >= 3\n",
    "m2 = df[\"constraint\"] == \"constrained\"\n",
    "\n",
    "enst_3 = df[m1 & m2][\"enst\"].drop_duplicates()\n",
    "print(f\"Transcripts with at least 3 dnPTVs in a constrained region: {len(enst_3)}\")"
   ]
  },
  {
   "cell_type": "code",
   "execution_count": 9,
   "id": "16d0f9af-8a31-492c-9395-3a1cf2bded90",
   "metadata": {
    "tags": []
   },
   "outputs": [],
   "source": [
    "# Non-morbid genes (not AD or XL)\n",
    "m1 = ~df[\"omim_inheritance_simple\"].isin([\"AD\", \"AD_AR\", \"XL\"])\n",
    "\n",
    "enst_non_morbid = df[m1][\"enst\"].drop_duplicates()"
   ]
  },
  {
   "cell_type": "code",
   "execution_count": 10,
   "id": "128906a8-2177-4e3e-abbd-4315803436ef",
   "metadata": {
    "tags": []
   },
   "outputs": [
    {
     "name": "stdout",
     "output_type": "stream",
     "text": [
      ">=3 DNMs and non-morbid (not AD or XL): 28\n"
     ]
    }
   ],
   "source": [
    "# >=3 dnPTVs and non-morbid\n",
    "m1 = enst_3.isin(enst_non_morbid)\n",
    "enst_3_non_morbid = enst_3[m1]\n",
    "\n",
    "print(f\">=3 DNMs and non-morbid (not AD or XL): {len(enst_3_non_morbid)}\")"
   ]
  },
  {
   "cell_type": "code",
   "execution_count": 11,
   "id": "7b6c9609-7971-42be-bc0d-72c9e754544e",
   "metadata": {
    "tags": []
   },
   "outputs": [],
   "source": [
    "# gnomAD constraint data\n",
    "gnomad = pd.read_csv(\n",
    "    \"data/raw/gnomad.v4.0.constraint_metrics.tsv\",\n",
    "    sep=\"\\t\",\n",
    "    header=0,\n",
    "    usecols=[\"transcript\", \"lof.pLI\", \"lof.oe_ci.upper\"],\n",
    ").set_axis([\"enst\", \"pli\", \"loeuf\"], axis=1)\n",
    "\n",
    "# Get transcripts with strong pLI / LOEUF scores\n",
    "m1 = gnomad.pli > 0.9\n",
    "m2 = gnomad.loeuf < 0.6\n",
    "hi_pli = gnomad[m1 | m2].enst"
   ]
  },
  {
   "cell_type": "code",
   "execution_count": 12,
   "id": "6d5f0277-400b-4518-9e32-9592eba046a2",
   "metadata": {},
   "outputs": [
    {
     "name": "stdout",
     "output_type": "stream",
     "text": [
      "Transcripts with >=3 dnPTVs and weak pLI / LOEUF scores: 9\n",
      "... of which no AD/XL phenotype in OMIM: 3\n"
     ]
    }
   ],
   "source": [
    "# Transcripts with >=3 dnPTVs, and weak pLI / LOEUF scores\n",
    "m1 = enst_3.isin(hi_pli)\n",
    "\n",
    "enst_new = enst_3[~m1]\n",
    "print(f\"Transcripts with >=3 dnPTVs and weak pLI / LOEUF scores: {len(enst_new)}\")\n",
    "\n",
    "# ... of which no AD/XL phenotype in OMIM\n",
    "m1 = enst_3_non_morbid.isin(hi_pli)\n",
    "enst_new_non_morbid = enst_3_non_morbid[~m1]\n",
    "print(f\"... of which no AD/XL phenotype in OMIM: {len(enst_new_non_morbid)}\")"
   ]
  },
  {
   "cell_type": "code",
   "execution_count": 13,
   "id": "c02a146e-7b66-4fd2-9e63-8e9db093e49f",
   "metadata": {
    "tags": []
   },
   "outputs": [
    {
     "data": {
      "text/html": [
       "<div>\n",
       "<style scoped>\n",
       "    .dataframe tbody tr th:only-of-type {\n",
       "        vertical-align: middle;\n",
       "    }\n",
       "\n",
       "    .dataframe tbody tr th {\n",
       "        vertical-align: top;\n",
       "    }\n",
       "\n",
       "    .dataframe thead th {\n",
       "        text-align: right;\n",
       "    }\n",
       "</style>\n",
       "<table border=\"1\" class=\"dataframe\">\n",
       "  <thead>\n",
       "    <tr style=\"text-align: right;\">\n",
       "      <th></th>\n",
       "      <th>enst</th>\n",
       "      <th>chr</th>\n",
       "      <th>pos</th>\n",
       "      <th>ref</th>\n",
       "      <th>alt</th>\n",
       "      <th>symbol</th>\n",
       "      <th>omim_inheritance_simple</th>\n",
       "      <th>region</th>\n",
       "      <th>constraint</th>\n",
       "      <th>pli</th>\n",
       "      <th>loeuf</th>\n",
       "      <th>n_trunc_region</th>\n",
       "      <th>n_trunc_transcript</th>\n",
       "      <th>cohort</th>\n",
       "      <th>id</th>\n",
       "      <th>csq</th>\n",
       "      <th>case_solved</th>\n",
       "    </tr>\n",
       "  </thead>\n",
       "  <tbody>\n",
       "    <tr>\n",
       "      <th>26477</th>\n",
       "      <td>ENST00000537592</td>\n",
       "      <td>chr18</td>\n",
       "      <td>78992997</td>\n",
       "      <td>C</td>\n",
       "      <td>T</td>\n",
       "      <td>SALL3</td>\n",
       "      <td>NaN</td>\n",
       "      <td>long_exon</td>\n",
       "      <td>constrained</td>\n",
       "      <td>0.000408</td>\n",
       "      <td>0.754</td>\n",
       "      <td>4.0</td>\n",
       "      <td>4</td>\n",
       "      <td>gel</td>\n",
       "      <td>112007818_10004.1</td>\n",
       "      <td>stop_gained</td>\n",
       "      <td>no</td>\n",
       "    </tr>\n",
       "    <tr>\n",
       "      <th>26483</th>\n",
       "      <td>ENST00000537592</td>\n",
       "      <td>chr18</td>\n",
       "      <td>78995025</td>\n",
       "      <td>C</td>\n",
       "      <td>T</td>\n",
       "      <td>SALL3</td>\n",
       "      <td>NaN</td>\n",
       "      <td>long_exon</td>\n",
       "      <td>constrained</td>\n",
       "      <td>0.000408</td>\n",
       "      <td>0.754</td>\n",
       "      <td>4.0</td>\n",
       "      <td>4</td>\n",
       "      <td>gel</td>\n",
       "      <td>125000331_10000.2</td>\n",
       "      <td>stop_gained</td>\n",
       "      <td>no</td>\n",
       "    </tr>\n",
       "    <tr>\n",
       "      <th>26482</th>\n",
       "      <td>ENST00000537592</td>\n",
       "      <td>chr18</td>\n",
       "      <td>78994230</td>\n",
       "      <td>A</td>\n",
       "      <td>T</td>\n",
       "      <td>SALL3</td>\n",
       "      <td>NaN</td>\n",
       "      <td>long_exon</td>\n",
       "      <td>constrained</td>\n",
       "      <td>0.000408</td>\n",
       "      <td>0.754</td>\n",
       "      <td>4.0</td>\n",
       "      <td>4</td>\n",
       "      <td>ddd</td>\n",
       "      <td>DDD13k.06426</td>\n",
       "      <td>stop_gained</td>\n",
       "      <td>NaN</td>\n",
       "    </tr>\n",
       "    <tr>\n",
       "      <th>26484</th>\n",
       "      <td>ENST00000537592</td>\n",
       "      <td>chr18</td>\n",
       "      <td>78995055</td>\n",
       "      <td>C</td>\n",
       "      <td>T</td>\n",
       "      <td>SALL3</td>\n",
       "      <td>NaN</td>\n",
       "      <td>long_exon</td>\n",
       "      <td>constrained</td>\n",
       "      <td>0.000408</td>\n",
       "      <td>0.754</td>\n",
       "      <td>4.0</td>\n",
       "      <td>4</td>\n",
       "      <td>rumc</td>\n",
       "      <td>rumc_patient_910</td>\n",
       "      <td>stop_gained</td>\n",
       "      <td>NaN</td>\n",
       "    </tr>\n",
       "    <tr>\n",
       "      <th>30166</th>\n",
       "      <td>ENST00000568956</td>\n",
       "      <td>chr19</td>\n",
       "      <td>55615759</td>\n",
       "      <td>G</td>\n",
       "      <td>A</td>\n",
       "      <td>ZNF865</td>\n",
       "      <td>NaN</td>\n",
       "      <td>distal_nmd</td>\n",
       "      <td>constrained</td>\n",
       "      <td>0.634270</td>\n",
       "      <td>1.077</td>\n",
       "      <td>3.0</td>\n",
       "      <td>3</td>\n",
       "      <td>ddd</td>\n",
       "      <td>DDD13k.09150</td>\n",
       "      <td>stop_gained</td>\n",
       "      <td>NaN</td>\n",
       "    </tr>\n",
       "    <tr>\n",
       "      <th>30168</th>\n",
       "      <td>ENST00000568956</td>\n",
       "      <td>chr19</td>\n",
       "      <td>55615913</td>\n",
       "      <td>-</td>\n",
       "      <td>G</td>\n",
       "      <td>ZNF865</td>\n",
       "      <td>NaN</td>\n",
       "      <td>distal_nmd</td>\n",
       "      <td>constrained</td>\n",
       "      <td>0.634270</td>\n",
       "      <td>1.077</td>\n",
       "      <td>3.0</td>\n",
       "      <td>3</td>\n",
       "      <td>gdx</td>\n",
       "      <td>102598</td>\n",
       "      <td>frameshift_variant</td>\n",
       "      <td>NaN</td>\n",
       "    </tr>\n",
       "    <tr>\n",
       "      <th>30169</th>\n",
       "      <td>ENST00000568956</td>\n",
       "      <td>chr19</td>\n",
       "      <td>55615978</td>\n",
       "      <td>C</td>\n",
       "      <td>-</td>\n",
       "      <td>ZNF865</td>\n",
       "      <td>NaN</td>\n",
       "      <td>distal_nmd</td>\n",
       "      <td>constrained</td>\n",
       "      <td>0.634270</td>\n",
       "      <td>1.077</td>\n",
       "      <td>3.0</td>\n",
       "      <td>3</td>\n",
       "      <td>gdx</td>\n",
       "      <td>43787</td>\n",
       "      <td>frameshift_variant</td>\n",
       "      <td>NaN</td>\n",
       "    </tr>\n",
       "    <tr>\n",
       "      <th>19011</th>\n",
       "      <td>ENST00000629685</td>\n",
       "      <td>chr15</td>\n",
       "      <td>92927258</td>\n",
       "      <td>T</td>\n",
       "      <td>A</td>\n",
       "      <td>ENSG00000279765</td>\n",
       "      <td>NaN</td>\n",
       "      <td>distal_nmd</td>\n",
       "      <td>constrained</td>\n",
       "      <td>0.071589</td>\n",
       "      <td>1.199</td>\n",
       "      <td>3.0</td>\n",
       "      <td>3</td>\n",
       "      <td>ddd</td>\n",
       "      <td>DDD13k.01698</td>\n",
       "      <td>stop_gained</td>\n",
       "      <td>NaN</td>\n",
       "    </tr>\n",
       "    <tr>\n",
       "      <th>19009</th>\n",
       "      <td>ENST00000629685</td>\n",
       "      <td>chr15</td>\n",
       "      <td>92924529</td>\n",
       "      <td>G</td>\n",
       "      <td>T</td>\n",
       "      <td>ENSG00000279765</td>\n",
       "      <td>NaN</td>\n",
       "      <td>distal_nmd</td>\n",
       "      <td>constrained</td>\n",
       "      <td>0.071589</td>\n",
       "      <td>1.199</td>\n",
       "      <td>3.0</td>\n",
       "      <td>3</td>\n",
       "      <td>gdx</td>\n",
       "      <td>36725</td>\n",
       "      <td>stop_gained</td>\n",
       "      <td>NaN</td>\n",
       "    </tr>\n",
       "    <tr>\n",
       "      <th>19013</th>\n",
       "      <td>ENST00000629685</td>\n",
       "      <td>chr15</td>\n",
       "      <td>92927289</td>\n",
       "      <td>C</td>\n",
       "      <td>T</td>\n",
       "      <td>ENSG00000279765</td>\n",
       "      <td>NaN</td>\n",
       "      <td>distal_nmd</td>\n",
       "      <td>constrained</td>\n",
       "      <td>0.071589</td>\n",
       "      <td>1.199</td>\n",
       "      <td>3.0</td>\n",
       "      <td>3</td>\n",
       "      <td>gdx</td>\n",
       "      <td>67563</td>\n",
       "      <td>stop_gained</td>\n",
       "      <td>NaN</td>\n",
       "    </tr>\n",
       "  </tbody>\n",
       "</table>\n",
       "</div>"
      ],
      "text/plain": [
       "                  enst    chr       pos ref alt           symbol  \\\n",
       "26477  ENST00000537592  chr18  78992997   C   T            SALL3   \n",
       "26483  ENST00000537592  chr18  78995025   C   T            SALL3   \n",
       "26482  ENST00000537592  chr18  78994230   A   T            SALL3   \n",
       "26484  ENST00000537592  chr18  78995055   C   T            SALL3   \n",
       "30166  ENST00000568956  chr19  55615759   G   A           ZNF865   \n",
       "30168  ENST00000568956  chr19  55615913   -   G           ZNF865   \n",
       "30169  ENST00000568956  chr19  55615978   C   -           ZNF865   \n",
       "19011  ENST00000629685  chr15  92927258   T   A  ENSG00000279765   \n",
       "19009  ENST00000629685  chr15  92924529   G   T  ENSG00000279765   \n",
       "19013  ENST00000629685  chr15  92927289   C   T  ENSG00000279765   \n",
       "\n",
       "      omim_inheritance_simple      region   constraint       pli  loeuf  \\\n",
       "26477                     NaN   long_exon  constrained  0.000408  0.754   \n",
       "26483                     NaN   long_exon  constrained  0.000408  0.754   \n",
       "26482                     NaN   long_exon  constrained  0.000408  0.754   \n",
       "26484                     NaN   long_exon  constrained  0.000408  0.754   \n",
       "30166                     NaN  distal_nmd  constrained  0.634270  1.077   \n",
       "30168                     NaN  distal_nmd  constrained  0.634270  1.077   \n",
       "30169                     NaN  distal_nmd  constrained  0.634270  1.077   \n",
       "19011                     NaN  distal_nmd  constrained  0.071589  1.199   \n",
       "19009                     NaN  distal_nmd  constrained  0.071589  1.199   \n",
       "19013                     NaN  distal_nmd  constrained  0.071589  1.199   \n",
       "\n",
       "       n_trunc_region  n_trunc_transcript cohort                 id  \\\n",
       "26477             4.0                   4    gel  112007818_10004.1   \n",
       "26483             4.0                   4    gel  125000331_10000.2   \n",
       "26482             4.0                   4    ddd       DDD13k.06426   \n",
       "26484             4.0                   4   rumc   rumc_patient_910   \n",
       "30166             3.0                   3    ddd       DDD13k.09150   \n",
       "30168             3.0                   3    gdx             102598   \n",
       "30169             3.0                   3    gdx              43787   \n",
       "19011             3.0                   3    ddd       DDD13k.01698   \n",
       "19009             3.0                   3    gdx              36725   \n",
       "19013             3.0                   3    gdx              67563   \n",
       "\n",
       "                      csq case_solved  \n",
       "26477         stop_gained          no  \n",
       "26483         stop_gained          no  \n",
       "26482         stop_gained         NaN  \n",
       "26484         stop_gained         NaN  \n",
       "30166         stop_gained         NaN  \n",
       "30168  frameshift_variant         NaN  \n",
       "30169  frameshift_variant         NaN  \n",
       "19011         stop_gained         NaN  \n",
       "19009         stop_gained         NaN  \n",
       "19013         stop_gained         NaN  "
      ]
     },
     "execution_count": 13,
     "metadata": {},
     "output_type": "execute_result"
    }
   ],
   "source": [
    "# Inspect DNMs in the new transcripts\n",
    "m1 = df[\"enst\"].isin(enst_new_non_morbid)\n",
    "m2 = df[\"csq\"].isin([\"frameshift_variant\", \"stop_gained\"])\n",
    "df[m1 & m2].sort_values(\"enst\")"
   ]
  }
 ],
 "metadata": {
  "kernelspec": {
   "display_name": "Python [conda env:.conda-ukb]",
   "language": "python",
   "name": "conda-env-.conda-ukb-py"
  },
  "language_info": {
   "codemirror_mode": {
    "name": "ipython",
    "version": 3
   },
   "file_extension": ".py",
   "mimetype": "text/x-python",
   "name": "python",
   "nbconvert_exporter": "python",
   "pygments_lexer": "ipython3",
   "version": "3.8.17"
  }
 },
 "nbformat": 4,
 "nbformat_minor": 5
}
