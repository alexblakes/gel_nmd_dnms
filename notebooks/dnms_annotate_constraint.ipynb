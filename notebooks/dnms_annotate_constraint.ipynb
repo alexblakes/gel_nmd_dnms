{
 "cells": [
  {
   "cell_type": "code",
   "execution_count": 1,
   "id": "baeda944-a0c5-4274-9b36-91598da847a1",
   "metadata": {},
   "outputs": [
    {
     "data": {
      "text/plain": [
       "' \\n'"
      ]
     },
     "execution_count": 1,
     "metadata": {},
     "output_type": "execute_result"
    }
   ],
   "source": [
    "\"\"\" \n",
    "\"\"\""
   ]
  },
  {
   "cell_type": "markdown",
   "id": "da8b6cf7-1e42-43db-8a97-d4fc23897ab5",
   "metadata": {
    "tags": []
   },
   "source": [
    "## Imports"
   ]
  },
  {
   "cell_type": "code",
   "execution_count": 2,
   "id": "1d15dea8-fd78-486b-9385-815f905b6367",
   "metadata": {
    "tags": []
   },
   "outputs": [],
   "source": [
    "import pandas as pd"
   ]
  },
  {
   "cell_type": "markdown",
   "id": "692c9bd1-aaf6-4b05-9d83-76bd35b1f837",
   "metadata": {
    "tags": []
   },
   "source": [
    "## Read data"
   ]
  },
  {
   "cell_type": "code",
   "execution_count": 3,
   "id": "da3401e1-fcdd-4683-9dd9-8a47694e2a43",
   "metadata": {
    "tags": []
   },
   "outputs": [],
   "source": [
    "def get_dnms(path=\"../outputs/dnms_vep_clean.tsv\"):\n",
    "    dnms = pd.read_csv(path, sep=\"\\t\")\n",
    "    return dnms"
   ]
  },
  {
   "cell_type": "code",
   "execution_count": 4,
   "id": "fbe888c6-ed88-4fcd-b577-d6bcd6d6416f",
   "metadata": {
    "tags": []
   },
   "outputs": [],
   "source": [
    "def get_constraint(path=\"../outputs/constraint_annotation.tsv\"):\n",
    "    cst = pd.read_csv(path, sep=\"\\t\")\n",
    "    return cst"
   ]
  },
  {
   "cell_type": "code",
   "execution_count": 5,
   "id": "8c4fabe0-7d99-4328-acef-30b5c56fd90a",
   "metadata": {
    "tags": []
   },
   "outputs": [],
   "source": [
    "def get_nmd(path=\"../data/nmd_annotations.tsv\"):\n",
    "    nmd = pd.read_csv(\n",
    "        path,\n",
    "        sep=\"\\t\",\n",
    "        header=0,\n",
    "        names=[\"chr\", \"pos\", \"enst\", \"nmd_all\", \"nmd\"],\n",
    "        usecols=[\"chr\", \"pos\", \"enst\", \"nmd\"],\n",
    "    )\n",
    "    return nmd"
   ]
  },
  {
   "cell_type": "code",
   "execution_count": 6,
   "id": "82e1e8bb-52ee-41be-8d9d-63337c069e0a",
   "metadata": {
    "tags": []
   },
   "outputs": [],
   "source": [
    "def get_genes(path=\"../data/gene_ids.tsv\"):\n",
    "    genes = pd.read_csv(\n",
    "        path,\n",
    "        sep=\"\\t\",\n",
    "        header=0,\n",
    "        usecols=[\"gene_id\", \"transcript_id\"],\n",
    "    ).set_axis([\"ensg\", \"enst\"], axis=1)\n",
    "\n",
    "    # Remove version numbers\n",
    "    genes[\"ensg\"] = genes[\"ensg\"].str.split(\".\").str[0]\n",
    "    genes[\"enst\"] = genes[\"enst\"].str.split(\".\").str[0]\n",
    "\n",
    "    # Drop duplicates\n",
    "    genes = genes.drop_duplicates()\n",
    "\n",
    "    return genes"
   ]
  },
  {
   "cell_type": "code",
   "execution_count": 7,
   "id": "a79eb360-fb7d-46e6-9fc2-8eb4f293e5d8",
   "metadata": {
    "tags": []
   },
   "outputs": [],
   "source": [
    "def get_omim(path=\"../outputs/omim_genemap2_simple.tsv\"):\n",
    "    om = (\n",
    "        pd.read_csv(path, sep=\"\\t\", usecols=[\"ensg\", \"inheritance\"])\n",
    "        .drop_duplicates()\n",
    "    )\n",
    "    return om\n",
    "\n",
    "# TODO Keep phenotype column in OMIM dataset"
   ]
  },
  {
   "cell_type": "code",
   "execution_count": 8,
   "id": "700330ef-d978-4e14-a9e8-b1c0a7b7a80b",
   "metadata": {
    "tags": []
   },
   "outputs": [],
   "source": [
    "dnms = get_dnms()\n",
    "cst = get_constraint()\n",
    "nmd = get_nmd()\n",
    "genes = get_genes()\n",
    "omim = get_omim()"
   ]
  },
  {
   "cell_type": "markdown",
   "id": "d8ba8db1-86b5-4a02-be6d-39ce5e89b3b5",
   "metadata": {
    "tags": []
   },
   "source": [
    "## Merge data"
   ]
  },
  {
   "cell_type": "code",
   "execution_count": 9,
   "id": "386930e5-57bc-4540-8a07-08952f2cb9b8",
   "metadata": {},
   "outputs": [],
   "source": [
    "# Merge OMIM with with gene ids\n",
    "m1 = omim.merge(genes).drop(\"ensg\", axis=1).assign(omim=\"morbid\")"
   ]
  },
  {
   "cell_type": "code",
   "execution_count": 10,
   "id": "924b13ab-b435-4ba1-b7e7-377ef121760e",
   "metadata": {},
   "outputs": [],
   "source": [
    "# Merge constraint with OMIM data\n",
    "m2 = cst.merge(m1, how=\"left\").fillna({\"omim\": \"non_morbid\"})"
   ]
  },
  {
   "cell_type": "code",
   "execution_count": 11,
   "id": "3705d4f4-bde1-457d-b057-2c4fa8778114",
   "metadata": {},
   "outputs": [],
   "source": [
    "# Merge VEP and NMD annotations\n",
    "m3 = dnms.merge(nmd, how=\"left\").drop_duplicates([\"chr\", \"pos\", \"ref\", \"alt\", \"enst\"])"
   ]
  },
  {
   "cell_type": "markdown",
   "id": "1edf7955-4ab6-407c-9854-8dc4e7a00e87",
   "metadata": {},
   "source": [
    "The NMD annotations file contains the annotations for each canonical transcript in GENCODE. DNMs lacking an NMD annotation are probably those which fall in non-canonical transcripts."
   ]
  },
  {
   "cell_type": "code",
   "execution_count": 12,
   "id": "d21ef7ee-b6f4-481b-813a-7894d247301a",
   "metadata": {},
   "outputs": [],
   "source": [
    "# Merge all annotations\n",
    "m4 = m3.merge(m2[[\"nmd\",\"enst\",\"non_exp\",\"constraint\",\"inheritance\",\"omim\"]], how=\"left\")"
   ]
  },
  {
   "cell_type": "code",
   "execution_count": 26,
   "id": "92b7bc2e-97af-408a-8e2b-3268b5558427",
   "metadata": {
    "tags": []
   },
   "outputs": [],
   "source": [
    "#TODO combine all OMIM annotations per gene prior to merge with DNMs. "
   ]
  },
  {
   "cell_type": "markdown",
   "id": "57e296ca-33d6-4798-9ace-bbf905be3352",
   "metadata": {},
   "source": [
    "# This code belongs in a separate script!"
   ]
  },
  {
   "cell_type": "code",
   "execution_count": null,
   "id": "8a8b9dd0-b55e-4417-8c0b-30797d4070f2",
   "metadata": {},
   "outputs": [],
   "source": [
    "# Annotate DNMs with regional constraint annotation\n",
    "rr = df.merge(cst[[\"nmd\", \"enst\", \"constraint\"]], how=\"left\")"
   ]
  },
  {
   "cell_type": "markdown",
   "id": "8feeb421-623b-488e-aa96-a3f7595f78bd",
   "metadata": {},
   "source": [
    "### Annotate with gene IDs and symbols"
   ]
  },
  {
   "cell_type": "code",
   "execution_count": null,
   "id": "0530ea23-2d88-4188-a79e-ae45bc00b86d",
   "metadata": {},
   "outputs": [],
   "source": [
    "# Load gene ID data\n",
    "ids = pd.read_csv(\n",
    "    \"../data/gene_ids.tsv\", sep=\"\\t\", header=0, names=[\"ensg\", \"enst\", \"symbol\"]\n",
    ")\n",
    "\n",
    "# Remove ENSG and ENST version numbers\n",
    "for e in [\"ensg\", \"enst\"]:\n",
    "    ids[e] = ids[e].str.split(\".\").str[0]"
   ]
  },
  {
   "cell_type": "code",
   "execution_count": null,
   "id": "33fc9e08-c198-4a16-a1e3-a125571de075",
   "metadata": {},
   "outputs": [],
   "source": [
    "# Match gene identifiers to transcript IDs\n",
    "rr = rr.merge(ids).drop_duplicates()  # Drop dup ENSTs on sex chromosomes"
   ]
  },
  {
   "cell_type": "code",
   "execution_count": null,
   "id": "695c2c0b-477d-4293-bcb0-ffea8f14e043",
   "metadata": {},
   "outputs": [],
   "source": [
    "# Match OMIM phenotypes to DNM transcripts\n",
    "rr = rr.merge(omim_simple, how=\"left\")"
   ]
  },
  {
   "cell_type": "markdown",
   "id": "21b2a7eb-4f57-4aab-8b95-8f11c85b0020",
   "metadata": {},
   "source": [
    "### Save the annotated and curated DNMs to output"
   ]
  },
  {
   "cell_type": "code",
   "execution_count": null,
   "id": "c1e2125a-ecbd-4e29-9754-404693f46ee1",
   "metadata": {},
   "outputs": [],
   "source": [
    "cols = [\n",
    "    \"chr\",\n",
    "    \"pos\",\n",
    "    \"ref\",\n",
    "    \"alt\",\n",
    "    \"source\",\n",
    "    \"id\",\n",
    "    \"csq\",\n",
    "    \"symbol\",\n",
    "    \"ensg\",\n",
    "    \"enst\",\n",
    "    \"nmd\",\n",
    "    \"constraint\",\n",
    "    \"omim\",\n",
    "]\n",
    "\n",
    "rr = rr[cols]\n",
    "\n",
    "rr.to_csv(\"../outputs/dnms_annotated.tsv\", sep=\"\\t\", index=False)"
   ]
  }
 ],
 "metadata": {
  "kernelspec": {
   "display_name": "Python [conda env:.conda-ukb]",
   "language": "python",
   "name": "conda-env-.conda-ukb-py"
  },
  "language_info": {
   "codemirror_mode": {
    "name": "ipython",
    "version": 3
   },
   "file_extension": ".py",
   "mimetype": "text/x-python",
   "name": "python",
   "nbconvert_exporter": "python",
   "pygments_lexer": "ipython3",
   "version": "3.8.17"
  }
 },
 "nbformat": 4,
 "nbformat_minor": 5
}
