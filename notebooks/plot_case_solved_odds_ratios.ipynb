{
 "cells": [
  {
   "cell_type": "markdown",
   "id": "a535632d-9c4f-4bcc-a8d0-1b1beeb6410a",
   "metadata": {},
   "source": [
    "# Plot case solved odds ratios"
   ]
  },
  {
   "cell_type": "code",
   "execution_count": 1,
   "id": "1ff36587-abc8-4df7-93e2-7c25df8642eb",
   "metadata": {
    "tags": []
   },
   "outputs": [],
   "source": [
    "%load_ext autoreload\n",
    "%autoreload 2"
   ]
  },
  {
   "cell_type": "code",
   "execution_count": 2,
   "id": "d87ce57f-7e6f-4810-a5e4-9517bb46566a",
   "metadata": {
    "tags": []
   },
   "outputs": [
    {
     "name": "stdout",
     "output_type": "stream",
     "text": [
      "/nas/weka.gel.zone/re_gecip/enhanced_interpretation/AlexBlakes/nmd_dnms\n"
     ]
    }
   ],
   "source": [
    "# Change working directory to allow relative imports\n",
    "%cd /re_gecip/enhanced_interpretation/AlexBlakes/nmd_dnms"
   ]
  },
  {
   "cell_type": "code",
   "execution_count": 3,
   "id": "dff3fad1-bbdb-498f-9dd5-7a713d711979",
   "metadata": {
    "tags": []
   },
   "outputs": [],
   "source": [
    "# Imports\n",
    "import numpy as np\n",
    "import pandas as pd\n",
    "import matplotlib.pyplot as plt\n",
    "import seaborn as sns\n",
    "\n",
    "from src import constants as C\n",
    "from src import visualisation as vis"
   ]
  },
  {
   "cell_type": "code",
   "execution_count": 4,
   "id": "ea21318a-4c3a-4027-a643-e1f37446553b",
   "metadata": {
    "tags": []
   },
   "outputs": [],
   "source": [
    "# Plotting and colours\n",
    "plt.style.use(C.STYLE_DEFAULT)\n",
    "plt.style.use(C.COLOR_REGIONS)\n",
    "\n",
    "_PALETTE = vis.color_palette(\"regions\")"
   ]
  },
  {
   "cell_type": "code",
   "execution_count": 5,
   "id": "f4526553-5c0e-4340-b5cf-73b26c424f1c",
   "metadata": {
    "tags": []
   },
   "outputs": [],
   "source": [
    "or_stats = pd.read_csv(\"data/statistics/case_solved_odds_ratios.tsv\", sep=\"\\t\")"
   ]
  },
  {
   "cell_type": "code",
   "execution_count": 6,
   "id": "e04805c7-cc87-4dcb-9101-7bbdcd5c0887",
   "metadata": {
    "tags": []
   },
   "outputs": [],
   "source": [
    "df0 = or_stats[or_stats[\"region\"] == \"Whole transcript\"]\n",
    "df1 = or_stats[or_stats[\"region\"] == \"NMD target\"]\n",
    "df2 = or_stats[or_stats[\"region\"] == \"Start proximal\"]\n",
    "df3 = or_stats[or_stats[\"region\"] == \"Long exon\"]\n",
    "df4 = or_stats[or_stats[\"region\"] == \"Distal\"]"
   ]
  },
  {
   "cell_type": "code",
   "execution_count": 28,
   "id": "113927d7-4caf-4911-a7cc-30efe9b9bfe9",
   "metadata": {
    "tags": []
   },
   "outputs": [],
   "source": [
    "def plot_odds_ratios(\n",
    "    df,\n",
    "    ax,\n",
    "    facecolor=\"white\",\n",
    "    label=None,\n",
    "    xticks=False,\n",
    "    legend=False,\n",
    "    **kwargs\n",
    "):\n",
    "\n",
    "    y = np.arange(len(df))[::-1]\n",
    "    colors = {\n",
    "        \"unconstrained\": \"grey\",\n",
    "        \"constrained\": \"black\",\n",
    "    }\n",
    "\n",
    "    for i, constraint in enumerate(df[\"constraint\"]):\n",
    "        ax.errorbar(\n",
    "            x=[df.iloc[i][\"odds_ratio\"]],\n",
    "            y=[(len(df) - 1) - i],\n",
    "            fmt=\"o\",\n",
    "            markersize=4,\n",
    "            color=colors[constraint],\n",
    "            xerr=(\n",
    "                [abs(df.iloc[i][\"ci_lo\"] - df.iloc[i][\"odds_ratio\"])],\n",
    "                [abs(df.iloc[i][\"ci_hi\"] - df.iloc[i][\"odds_ratio\"])],\n",
    "            ),\n",
    "            label=constraint.capitalize()\n",
    "        )\n",
    "        \n",
    "    if legend:\n",
    "        ax.legend(loc=\"center right\",)\n",
    "\n",
    "    ax.axvline(x=1, c=\"grey\", linestyle=\"--\")\n",
    "\n",
    "    ax.set_xlabel(\"Odds ratio\\n(case solved)\")\n",
    "    ax.set_ylim(y.min() - 1, y.max() + 1)\n",
    "    ax.set_xlim(-1, 14)\n",
    "    ax.set_yticks(ticks=[y.max()/2], labels=[label])\n",
    "    ax.tick_params(axis=\"y\", length=0)\n",
    "    # ax.label_outer(remove_inner_ticks=True)\n",
    "\n",
    "    ax.set_facecolor(facecolor)\n",
    "    ax.patch.set_alpha(0.3)\n",
    "\n",
    "    ax.spines[\"left\"].set_visible(False)\n",
    "    ax.spines[\"left\"].set_position((\"outward\", 7))\n",
    "\n",
    "    if not xticks:\n",
    "        ax.spines[\"bottom\"].set_visible(False)\n",
    "        ax.tick_params(axis=\"x\", bottom=False)\n",
    "        ax.set_xlabel(None)"
   ]
  },
  {
   "cell_type": "code",
   "execution_count": 29,
   "id": "300a220f-c701-43d7-be0e-4c6e88b63083",
   "metadata": {
    "tags": []
   },
   "outputs": [
    {
     "data": {
      "image/png": "[encoded data removed]",
      "text/plain": [
       "<Figure size 275.591x157.48 with 5 Axes>"
      ]
     },
     "metadata": {},
     "output_type": "display_data"
    }
   ],
   "source": [
    "fig, axs = plt.subplots(5, 1, figsize=(7 * C.CM, 4 * C.CM), sharex=True)\n",
    "plt.subplots_adjust(hspace=0)\n",
    "\n",
    "plot_odds_ratios(\n",
    "    df0,\n",
    "    axs[0],\n",
    "    label=\"Whole transcript\",\n",
    "    facecolor=_PALETTE[0], legend=True\n",
    ")\n",
    "plot_odds_ratios(\n",
    "    df1,\n",
    "    axs[1],\n",
    "    label=\"NMD target\",\n",
    "    facecolor=_PALETTE[1],\n",
    ")\n",
    "plot_odds_ratios(df2, axs[2], label=\"Start proximal\", facecolor=_PALETTE[2])\n",
    "plot_odds_ratios(df3, axs[3], label=\"Long exon\", facecolor=_PALETTE[3])\n",
    "plot_odds_ratios(df4, axs[4], label=\"Distal\", facecolor=_PALETTE[4], xticks=True)\n",
    "\n",
    "plt.savefig(\"data/plots/case_solved_odds_ratios.svg\")\n",
    "plt.savefig(\"data/plots/case_solved_odds_ratios.png\", dpi=1000)"
   ]
  },
  {
   "cell_type": "code",
   "execution_count": null,
   "id": "f6ae5218-b578-4961-b77e-6d6e86c2e770",
   "metadata": {},
   "outputs": [],
   "source": []
  }
 ],
 "metadata": {
  "kernelspec": {
   "display_name": "Python [conda env:.conda-ukb]",
   "language": "python",
   "name": "conda-env-.conda-ukb-py"
  },
  "language_info": {
   "codemirror_mode": {
    "name": "ipython",
    "version": 3
   },
   "file_extension": ".py",
   "mimetype": "text/x-python",
   "name": "python",
   "nbconvert_exporter": "python",
   "pygments_lexer": "ipython3",
   "version": "3.8.17"
  }
 },
 "nbformat": 4,
 "nbformat_minor": 5
}
